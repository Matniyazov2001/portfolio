{
  "nbformat": 4,
  "nbformat_minor": 0,
  "metadata": {
    "colab": {
      "provenance": [],
      "authorship_tag": "ABX9TyMvX8GSWTEtEyZPgzP9DcyK",
      "include_colab_link": true
    },
    "kernelspec": {
      "name": "python3",
      "display_name": "Python 3"
    },
    "language_info": {
      "name": "python"
    }
  },
  "cells": [
    {
      "cell_type": "markdown",
      "metadata": {
        "id": "view-in-github",
        "colab_type": "text"
      },
      "source": [
        "<a href=\"https://colab.research.google.com/github/Matniyazov2001/portfolio/blob/main/task4_2_py.ipynb\" target=\"_parent\"><img src=\"https://colab.research.google.com/assets/colab-badge.svg\" alt=\"Open In Colab\"/></a>"
      ]
    },
    {
      "cell_type": "code",
      "execution_count": null,
      "metadata": {
        "id": "h5dGiU919M4x"
      },
      "outputs": [],
      "source": [
        "def summa_n(t):\n",
        "    S = sum(range(1, t + 1))\n",
        "    return f\"Я знаю, что сумма чисел от 1 до {t} равна {S}\""
      ]
    },
    {
      "cell_type": "code",
      "source": [
        "import time\n",
        "print(time.ctime())"
      ],
      "metadata": {
        "colab": {
          "base_uri": "https://localhost:8080/"
        },
        "id": "bZx9NwF1CW8k",
        "outputId": "ff27626c-1839-4fab-dfd4-ee33f16b451e"
      },
      "execution_count": null,
      "outputs": [
        {
          "output_type": "stream",
          "name": "stdout",
          "text": [
            "Mon Jun 23 23:08:12 2025\n"
          ]
        }
      ]
    },
    {
      "cell_type": "markdown",
      "source": [
        "Практическое задание 5.1"
      ],
      "metadata": {
        "id": "V9xL70SJIkX3"
      }
    },
    {
      "cell_type": "code",
      "source": [
        "import random\n",
        "def random_character(stdin):\n",
        "    if not stdin:\n",
        "        return\n",
        "    return str(random.choice(stdin))"
      ],
      "metadata": {
        "id": "yfeTLKRZIoAu"
      },
      "execution_count": null,
      "outputs": []
    },
    {
      "cell_type": "markdown",
      "source": [
        "Практическое задание 5.2"
      ],
      "metadata": {
        "id": "LrAzS7oyIzru"
      }
    },
    {
      "cell_type": "code",
      "source": [
        "import math\n",
        "\n",
        "def area_and_length(radius_str):\n",
        "    radius = float(radius_str)\n",
        "    area = round(math.pi * radius ** 2, 2)\n",
        "    length = round(2 * math.pi * radius, 2)\n",
        "    return f\"Circle area = {area}, circle length = {length}\""
      ],
      "metadata": {
        "id": "_LkRl2zqI1O2"
      },
      "execution_count": null,
      "outputs": []
    },
    {
      "cell_type": "code",
      "source": [],
      "metadata": {
        "id": "x9Z2m-kAKiN2"
      },
      "execution_count": null,
      "outputs": []
    },
    {
      "cell_type": "markdown",
      "source": [
        "Практическое задание 5.3"
      ],
      "metadata": {
        "id": "SKtl3HPqKZR4"
      }
    },
    {
      "cell_type": "markdown",
      "source": [
        "Напишите функцию-таймер, которая принимает на вход строку - время в секундах (например, s), а возвращает следующую строку по истечении этого времени:\n",
        "Время истекло! s секунд прошло.\n",
        "где s - это количество секунд.\n",
        "\n",
        "Используйте модуль time\n",
        "\n",
        "Файл с решением должен иметь название task5_3.py, название функции - def timer(). Вызывать в скрипте функцию не нужно.\n",
        "\n",
        "Тестовый пример:\n",
        "\n",
        "timer(5)\n",
        "\n",
        "Вывод:\n",
        "\n",
        "Время истекло! 5 секунд прошло."
      ],
      "metadata": {
        "id": "2xy35oE0KfTu"
      }
    },
    {
      "cell_type": "code",
      "source": [
        "import time\n",
        "def timer(stdin):\n",
        "    seconds = int(stdin)\n",
        "    time.sleep(seconds)\n",
        "    return f\"Время истекло! {seconds} секунд прошло.\""
      ],
      "metadata": {
        "id": "x49lCIePKjeX"
      },
      "execution_count": null,
      "outputs": []
    },
    {
      "cell_type": "markdown",
      "source": [
        "Практическое задание 6.1"
      ],
      "metadata": {
        "id": "K3VbQ8GQW5A7"
      }
    },
    {
      "cell_type": "markdown",
      "source": [
        "Объявите функцию data_shape, которая принимает на вход строку - название csv-файла, а возвращает размер этого файла.\n",
        "\n",
        "Используйте библиотеку pandas (воспользуйтесь принятым импортированием import pandas as pd).\n",
        "\n",
        "Вам понадобятся методы read_csv(), а также shape.\n",
        "\n",
        "Файл с решением должен иметь название task6_1.py, название функции - def data_shape(). Вызывать в скрипте функцию не нужно.\n",
        "\n",
        "Пример: Вход:\n",
        "\n",
        "'dataset.csv'\n",
        "\n",
        "Выход:\n",
        "\n",
        "(132, 6)\n",
        "\n",
        "# это означает, что в таблице 'dataset.csv' 132 строки и 6 столбцов\n",
        "\n",
        "Важно! Вам не надо дополнительно подгружать какие-либо csv-файлы, решение должно быть универсальным и требовать только строку. Путь к файлу внутри read_csv() в данном случае относительный - просто название файла. Это значит, что наши данные хранятся в одной папке проекта, и обратиться к ним можно просто через название."
      ],
      "metadata": {
        "id": "tr9Ix5QJW-0q"
      }
    },
    {
      "cell_type": "code",
      "source": [
        "import pandas as pd\n",
        "def data_shape(filename):\n",
        "    df = pd.read_csv(filename)\n",
        "    return df.shape"
      ],
      "metadata": {
        "id": "EplFP65wW7gz"
      },
      "execution_count": null,
      "outputs": []
    },
    {
      "cell_type": "markdown",
      "source": [
        "Практическое задание 6.2\n",
        "Объявите функцию row_col_num, которая принимает на вход строку - название csv-файла, а возвращает размер этого файла в виде строки:\n",
        "\n",
        "'В таблице rows строк и cols столбцов'\n",
        "\n",
        "Используйте ту же библиотеку и те же методы, что и в 1 задании\n",
        "\n",
        "Файл с решением должен иметь название task6_2.py, название функции - def row_col_num(). Вызывать в скрипте функцию не нужно.\n",
        "\n",
        "Пример: Вход:\n",
        "\n",
        "'dataset.csv'\n",
        "\n",
        "Выход:\n",
        "\n",
        "'В таблице 132 строк и 6 столбцов'\n",
        "\n",
        "Подсказка: атрибут .shape возвращает кортеж"
      ],
      "metadata": {
        "id": "SmWyYcLmXGja"
      }
    },
    {
      "cell_type": "code",
      "source": [
        "import pandas as pd\n",
        "def row_col_num(filename):\n",
        "    df = pd.read_csv(filename)\n",
        "    rows, cols, = df.shape\n",
        "    return f'В таблице {rows} строк и {cols} столбцов'"
      ],
      "metadata": {
        "id": "_MoEWC1gXRTT"
      },
      "execution_count": null,
      "outputs": []
    },
    {
      "cell_type": "markdown",
      "source": [
        "Практическое задание 6.3\n",
        "Объявите функцию read_file, которая на вход получает имя txt файла в виде строки и записывает каждую строку в список, который в конце возвращает.\n",
        "\n",
        "Допустим, есть файл test.txt:\n",
        "\n",
        "test string\n",
        "new string\n",
        "\n",
        "Тогда функция должна вернуть список вида ['test string', 'new string']\n",
        "\n",
        "Обратите внимание, что элементы возвращаемого списка не содержат символов переноса строки ('\\n')!\n",
        "\n",
        "Файл с решением должен иметь название task6_3.py, название функции - def read_file(). Вызывать в скрипте функцию не нужно.\n",
        "\n",
        "Важно: создавать файл не нужно, нужно его прочитать.\n",
        "\n",
        "Подсказка: обращайтесь с объектом файла, как со списком (чтобы пройтись по всем строкам файла)."
      ],
      "metadata": {
        "id": "tHYAcyOSYN57"
      }
    },
    {
      "cell_type": "code",
      "source": [
        "def read_file(filename):\n",
        "    with open(filename, 'r') as file:\n",
        "        lines = [line.strip() for line in file]\n",
        "    return lines"
      ],
      "metadata": {
        "id": "RWxwgAi8YX4j"
      },
      "execution_count": 2,
      "outputs": []
    },
    {
      "cell_type": "markdown",
      "source": [
        "Практическое задание 6.4\n",
        "Объявите функцию read_file_last, которая на вход получает:\n",
        "1) имя txt файла в виде строки\n",
        "2) целое положительное число (n)\n",
        "\n",
        "В результате чего возвращает список последних n строк этого файла.\n",
        "\n",
        "Допустим, есть файл tree.txt:\n",
        "\n",
        "В лесу родилась ёлочка,\n",
        "В лесу она росла.\n",
        "Зимой и летом стройная,\n",
        "Зелёная была.\n",
        "\n",
        "и n = 2\n",
        "\n",
        "Тогда функция должна вернуть список вида ['Зимой и летом стройная,', 'Зелёная была.']\n",
        "\n",
        "Обратите внимание, что элементы возвращаемого списка не содержат символов переноса строки ('\\n')!\n",
        "\n",
        "Файл с решением должен иметь название task6_4.py, название функции - def read_file_last(). Вызывать в скрипте функцию не нужно."
      ],
      "metadata": {
        "id": "uz3gr0o7ZCRU"
      }
    },
    {
      "cell_type": "code",
      "source": [
        "def read_file_last(filename, n):\n",
        "    with open(filename, 'r', encoding='utf-8') as file:\n",
        "        lines = file.readlines()\n",
        "    last_lines = lines[-n:]\n",
        "    last_lines = [line.rstrip('\\n') for line in last_lines]\n",
        "    return last_lines"
      ],
      "metadata": {
        "id": "SendKgt3tmyE"
      },
      "execution_count": 1,
      "outputs": []
    },
    {
      "cell_type": "markdown",
      "source": [
        "Практическое задание 7.2 (дополнительно)\n",
        "Напишите программу, которая на вход будет принимать список, элементы которого могут быть любыми. В данном массиве необходимо найти самую длинную строку, если таких будет несколько, то выбрать нужно первую. В найденной строке необходимо найти самую длинную подстроку без повторений. Таких строк может быть несколько, но возвращать функция должна первую подстроку. Результатом функции должно быть два объекта: индекс самой длинной строки списка и самая длинная подстрока без повторений. Если в исходном списке нет строк, то программа должна вернуть индекс -1 и пустую строку.\n",
        "\n",
        "Программа должна состоять из трех функций: check_input, get_substring и main.\n",
        "\n",
        "Функция check_input проверяет элемент массива и возвращает True, если элемент – строка, иначе – False.\n",
        "\n",
        "Функция get_substring находит и возвращает самую длинную подстроку без повторений в переданной строке.\n",
        "\n",
        "Функция main принимает на вход список, находит самую длинную строку списка, полученную строку передает на метод get_substring и печатает на экран (с помощью print) индекс самой длинной строки в массиве и найденную подстроку.\n",
        "\n",
        "Разберем программу на примере:\n",
        "\n",
        "Входные данные: [[0, 4, 8], ‘abca’, 7, ‘aaaaa’]\n",
        "\n",
        "В данном списке самая длинная строка – это последний элемент (индекс 3). В данной строке самая длинная подстрока без повторений будет ‘a’.\n",
        "\n",
        "Выходные данные: 3, 'a'\n",
        "\n",
        "Файл с решением должен иметь название task7_2.py, название функций - def check_input(), def get_substring(), def main(). Вызывать в скрипте функции не нужно."
      ],
      "metadata": {
        "id": "jPcUe1DEg-kd"
      }
    },
    {
      "cell_type": "markdown",
      "source": [],
      "metadata": {
        "id": "RqN370W0qVUo"
      }
    },
    {
      "cell_type": "code",
      "source": [
        "def check_input(element):\n",
        "\n",
        "    return isinstance(element, str)\n",
        "\n",
        "def get_substring(s):\n",
        "\n",
        "    start = 0\n",
        "    max_length = 0\n",
        "    max_start = 0\n",
        "    seen = {}\n",
        "\n",
        "    for end, char in enumerate(s):\n",
        "        if char in seen and seen[char] >= start:\n",
        "            start = seen[char] + 1\n",
        "        seen[char] = end\n",
        "        if end - start + 1 > max_length:\n",
        "            max_length = end - start + 1\n",
        "            max_start = start\n",
        "    return s[max_start:max_start + max_length]\n",
        "\n",
        "def main(input_list):\n",
        "\n",
        "    max_length = -1\n",
        "    index_of_max = -1\n",
        "    max_string = ''\n",
        "\n",
        "    for idx, element in enumerate(input_list):\n",
        "        if check_input(element):\n",
        "            if len(element) > max_length:\n",
        "                max_length = len(element)\n",
        "                index_of_max = idx\n",
        "                max_string = element\n",
        "\n",
        "    if index_of_max == -1:\n",
        "\n",
        "        print(-1, '')\n",
        "    else:\n",
        "        substring = get_substring(max_string)\n",
        "        print(index_of_max, repr(substring))"
      ],
      "metadata": {
        "id": "qh62shhst-Lg"
      },
      "execution_count": 3,
      "outputs": []
    }
  ]
}