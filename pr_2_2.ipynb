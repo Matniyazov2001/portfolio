{
  "nbformat": 4,
  "nbformat_minor": 0,
  "metadata": {
    "colab": {
      "provenance": [],
      "authorship_tag": "ABX9TyMpE34ml8rGZmAoKPj+hOoO",
      "include_colab_link": true
    },
    "kernelspec": {
      "name": "python3",
      "display_name": "Python 3"
    },
    "language_info": {
      "name": "python"
    }
  },
  "cells": [
    {
      "cell_type": "markdown",
      "metadata": {
        "id": "view-in-github",
        "colab_type": "text"
      },
      "source": [
        "<a href=\"https://colab.research.google.com/github/Matniyazov2001/portfolio/blob/main/pr_2_2.ipynb\" target=\"_parent\"><img src=\"https://colab.research.google.com/assets/colab-badge.svg\" alt=\"Open In Colab\"/></a>"
      ]
    },
    {
      "cell_type": "code",
      "execution_count": null,
      "metadata": {
        "colab": {
          "base_uri": "https://localhost:8080/"
        },
        "id": "UFwyuoQRkQex",
        "outputId": "ce5dcde9-b8ed-48ff-cd74-f6e848ad368c"
      },
      "outputs": [
        {
          "output_type": "stream",
          "name": "stdout",
          "text": [
            "Какое количество товара вы хотите приобрести?3\n",
            "Сколько стоит единица товара?115\n",
            "Итого: 345 руб.\n"
          ]
        }
      ],
      "source": [
        "kolichestvo=int(input(\"Какое количество товара вы хотите приобрести?\"))\n",
        "stoimost = int(input(\"Сколько стоит единица товара?\"))\n",
        "itog=kolichestvo * stoimost\n",
        "print(f\"Итого: {itog} руб.\")"
      ]
    }
  ]
}