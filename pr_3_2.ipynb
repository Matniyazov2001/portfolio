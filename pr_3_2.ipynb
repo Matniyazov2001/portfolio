{
  "nbformat": 4,
  "nbformat_minor": 0,
  "metadata": {
    "colab": {
      "provenance": [],
      "authorship_tag": "ABX9TyPhb4Fo7FyHvGiah5mBxX5q",
      "include_colab_link": true
    },
    "kernelspec": {
      "name": "python3",
      "display_name": "Python 3"
    },
    "language_info": {
      "name": "python"
    }
  },
  "cells": [
    {
      "cell_type": "markdown",
      "metadata": {
        "id": "view-in-github",
        "colab_type": "text"
      },
      "source": [
        "<a href=\"https://colab.research.google.com/github/Matniyazov2001/portfolio/blob/main/pr_3_2.ipynb\" target=\"_parent\"><img src=\"https://colab.research.google.com/assets/colab-badge.svg\" alt=\"Open In Colab\"/></a>"
      ]
    },
    {
      "cell_type": "code",
      "execution_count": null,
      "metadata": {
        "colab": {
          "base_uri": "https://localhost:8080/"
        },
        "id": "EDHS9VVXBBXF",
        "outputId": "7240dc33-86eb-4f71-e83a-6320ff3f3364"
      },
      "outputs": [
        {
          "output_type": "stream",
          "name": "stdout",
          "text": [
            "1\n",
            "2\n",
            "3\n",
            "0\n",
            "6\n"
          ]
        }
      ],
      "source": [
        "numbers = []\n",
        "\n",
        "num = int(input())\n",
        "\n",
        "while num != 0:\n",
        "    numbers.append(num)\n",
        "    num = int(input())\n",
        "print(sum(numbers) if numbers else 0)"
      ]
    }
  ]
}