{
  "nbformat": 4,
  "nbformat_minor": 0,
  "metadata": {
    "colab": {
      "provenance": [],
      "authorship_tag": "ABX9TyOAj+xMnSE5VdA7gD8edUhq",
      "include_colab_link": true
    },
    "kernelspec": {
      "name": "python3",
      "display_name": "Python 3"
    },
    "language_info": {
      "name": "python"
    }
  },
  "cells": [
    {
      "cell_type": "markdown",
      "metadata": {
        "id": "view-in-github",
        "colab_type": "text"
      },
      "source": [
        "<a href=\"https://colab.research.google.com/github/Matniyazov2001/portfolio/blob/main/task_7_2.ipynb\" target=\"_parent\"><img src=\"https://colab.research.google.com/assets/colab-badge.svg\" alt=\"Open In Colab\"/></a>"
      ]
    },
    {
      "cell_type": "markdown",
      "source": [
        "* Задания с пометкой дополнительно не учитываются при оценке\n",
        "\n",
        "Задания блока 7 не обязательны для выполнения. Они являются примером более сложных алгоритмических задач, которые можно добавить в репозиторий (Ваше портфолио).\n",
        "\n",
        "Напишите программу, которая на вход будет принимать список, элементы которого могут быть любыми. В данном массиве необходимо найти самую длинную строку, если таких будет несколько, то выбрать нужно первую. В найденной строке необходимо найти самую длинную подстроку без повторений. Таких строк может быть несколько, но возвращать функция должна первую подстроку. Результатом функции должно быть два объекта: индекс самой длинной строки списка и самая длинная подстрока без повторений. Если в исходном списке нет строк, то программа должна вернуть индекс -1 и пустую строку.\n",
        "\n",
        "Программа должна состоять из трех функций: check_input, get_substring и main.\n",
        "\n",
        "Функция check_input проверяет элемент массива и возвращает True, если элемент – строка, иначе – False.\n",
        "\n",
        "Функция get_substring находит и возвращает самую длинную подстроку без повторений в переданной строке.\n",
        "\n",
        "Функция main принимает на вход список, находит самую длинную строку списка, полученную строку передает на метод get_substring и печатает на экран (с помощью print) индекс самой длинной строки в массиве и найденную подстроку.\n",
        "\n",
        "Разберем программу на примере:\n",
        "\n",
        "Входные данные: [[0, 4, 8], ‘abca’, 7, ‘aaaaa’]\n",
        "\n",
        "В данном списке самая длинная строка – это последний элемент (индекс 3). В данной строке самая длинная подстрока без повторений будет ‘a’.\n",
        "\n",
        "Выходные данные: 3, 'a'\n",
        "\n",
        "Файл с решением должен иметь название task7_2.py, название функций - def check_input(), def get_substring(), def main(). Вызывать в скрипте функции не нужно."
      ],
      "metadata": {
        "id": "Jl7EqxQ1qdCI"
      }
    },
    {
      "cell_type": "code",
      "source": [
        "def check_input(element):\n",
        "\n",
        "    return isinstance(element, str)\n",
        "\n",
        "def get_substring(s):\n",
        "\n",
        "    if not s:\n",
        "        return \"\"\n",
        "\n",
        "    char_map = {}\n",
        "    start = 0\n",
        "    max_length = 0\n",
        "    result = \"\"\n",
        "\n",
        "    for end in range(len(s)):\n",
        "        if s[end] in char_map and char_map[s[end]] >= start:\n",
        "            start = char_map[s[end]] + 1\n",
        "\n",
        "        char_map[s[end]] = end\n",
        "\n",
        "        if end - start + 1 > max_length:\n",
        "            max_length = end - start + 1\n",
        "            result = s[start:end+1]\n",
        "\n",
        "    return result\n",
        "\n",
        "def main(lst):\n",
        "\n",
        "    longest_str_index = -1\n",
        "    longest_str = \"\"\n",
        "\n",
        "\n",
        "    for i, element in enumerate(lst):\n",
        "        if check_input(element) and len(element) > len(longest_str):\n",
        "            longest_str = element\n",
        "            longest_str_index = i\n",
        "\n",
        "\n",
        "    substring = get_substring(longest_str) if longest_str_index != -1 else \"\"\n",
        "\n",
        "\n",
        "    print(f\"{longest_str_index}, '{substring}'\")"
      ],
      "metadata": {
        "id": "elD72jmDqhYH"
      },
      "execution_count": null,
      "outputs": []
    }
  ]
}